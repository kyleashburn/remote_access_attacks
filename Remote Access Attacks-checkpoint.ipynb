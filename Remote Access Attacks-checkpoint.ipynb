{
 "cells": [
  {
   "cell_type": "markdown",
   "metadata": {},
   "source": [
    "## Intro:\n",
    "I took an Information Security class in the Fall of 2019. As part of that, I looked at my logs for my computer. In the process, I found out I was dealing with a lot of remote access attempts. In each case it looked like the attacker(s) had the goal of gaining access to an unsecured device. I decided after looking at the logs this didn't pose a risk to my security, but I decided to expand the max size of my log files just to be able to track this. I left the logs alone from 10/23/2019 to 5/11/2020 and just recently looked at them again. I was shocked to find that I had around 4.5 million events logged where they were failed logins. I decided to take a deeper look at the data and see what trends there were for me to tease of out it. First, I blocked the port in question so as to ensure my data would be the complete set.\n"
   ]
  },
  {
   "cell_type": "markdown",
   "metadata": {},
   "source": [
    "## Questions: \n",
    "\n",
    "I came up with 5 questions going into this and I also refined and expanded them. By the end, I had added a sixth question.\n",
    "#1 Where are the attacks coming from?\n",
    "I want to have an idea of where these attacks are originating; I want to know if there are countries that are \"safe\" that I don't have to block access from automatically.\n",
    "\n",
    "#2 How often does it happen?\n",
    "Is there a pattern to these attacks? Do they occur with greater frequency during the week or weekend? Do they occur with greater frequency during certain hours? Or is the frequency the same? Further, how has the trend of these attacks gone over time? Does it increase, decrease, or stay the same?\n",
    "\n",
    "#3 How many names are tried?\n",
    "How many usernames are tried by these attackers? Further, how many are repeated? Is it the same list that is repeated over and over just from a different IP address? Or does it appear to be a different list?\n",
    "\n",
    "#4 What are the top names tried?\n",
    "\n",
    "#5 Are only null passwords attempted?\n",
    "Do the attackers ever attempt to use a password that isn't null? Or do they stick with just trying to find unprotected accounts?\n",
    "\n",
    "#6 What sorts of workstations are launching these attacks?\n"
   ]
  },
  {
   "cell_type": "markdown",
   "metadata": {},
   "source": [
    "## Method: \n",
    "I started by downloading the log file...which was around 8gb of data. I quickly reasoned that was too large to interact with directly. Thus, I pulled only the information I needed to conduct my analysis from that file and wrote into a JSON file using Python. I then used that JSON as the basis of my analysis. I primarily fed in the data from the JSON into a series of dictionaries to take advantage of the speed they offer in terms of access. In terms of graphing, I used matplotlib for the graphs and geopandas for the chorpleth. Additionally, I used pandas for some of my analysis simply because it was better suited for some of my tasks.\n"
   ]
  },
  {
   "cell_type": "code",
   "execution_count": 20,
   "metadata": {},
   "outputs": [],
   "source": [
    "# magic high res thingy\n",
    "from IPython.display import set_matplotlib_formats\n",
    "set_matplotlib_formats('retina')\n"
   ]
  },
  {
   "cell_type": "markdown",
   "metadata": {},
   "source": [
    "Setting things up by processing the data. Quite a bit of processing to do here."
   ]
  },
  {
   "cell_type": "code",
   "execution_count": 1,
   "metadata": {},
   "outputs": [],
   "source": [
    "# importing my libraries\n",
    "import time as t\n",
    "import json\n",
    "import pprint\n",
    "from operator import itemgetter\n",
    "import csv\n",
    "from datetime import datetime as dte\n",
    "import datetime # seems redundant but isn't!\n",
    "import requests\n",
    "import matplotlib.pyplot as plt\n",
    "import geopandas\n",
    "import pandas as pd\n",
    "from mpl_toolkits.axes_grid1 import make_axes_locatable\n",
    "\n",
    "\n",
    "# setting a start time for the operation\n",
    "start_time = t.time()\n",
    "\n",
    "# creating the dictionaries to store the information I'll pull from the txt. \n",
    "ip_dict = {}\n",
    "account_dict = {}\n",
    "key_len_dict = {}\n",
    "sec_id_dict = {}\n",
    "time_dict = {}\n",
    "ip_name_dict = {}\n",
    "workstation_dict = {}\n",
    "date_dict = {}\n",
    "day_dict = {}\n",
    "\n",
    "\n",
    "# initializing a counter to track the number of log entries\n",
    "counter = 0\n",
    "\n",
    "# initializing the datetime variable and a list to hold datetimes\n",
    "current_datetime = \"\"\n",
    "datetime_list = []\n",
    "\n",
    "# opening the file that is the reduced log file.\n",
    "with open('testing.txt') as json_file:\n",
    "    events = json.load(json_file)\n",
    "    \n",
    "    \n",
    "    for event in events:\n",
    "        counter += 1\n",
    "               \n",
    "        \n",
    "        for date in events[event]:\n",
    "            \n",
    "            try:\n",
    "                # formatting the date into a datetime format\n",
    "                current_datetime = dte.strptime(date, '%m/%d/%Y %X %p')\n",
    "                #print(current_datetime)\n",
    "\n",
    "                # converting the format to UTC\n",
    "                current_datetime = current_datetime.replace(tzinfo=datetime.timezone.utc)#.timestamp()\n",
    "\n",
    "                # filling out the dictionary showing the attacks in terms of dates\n",
    "                cur_date = current_datetime.date()\n",
    "                #cur_date = matplotlib.dates.date2num(cur_date)\n",
    "\n",
    "                if cur_date not in date_dict:\n",
    "                    date_dict.setdefault(cur_date, 1)\n",
    "\n",
    "                else:\n",
    "                    date_dict[cur_date] += 1\n",
    "\n",
    "                # filling out the dictionary showing the attacks in terms of days of the week\n",
    "                # using the iso standard for days of the week (1=Monday, 7= Sunday)\n",
    "                day_of_week = current_datetime.isoweekday()\n",
    "\n",
    "\n",
    "                if day_of_week not in day_dict:\n",
    "                    day_dict.setdefault(day_of_week, 1)\n",
    "\n",
    "                else:\n",
    "                    day_dict[day_of_week] += 1\n",
    "\n",
    "\n",
    "                #print(current_datetime)\n",
    "                datetime_list.append(current_datetime)\n",
    "\n",
    "                date_split = date.strip().split(\" \")\n",
    "                time_split = date_split[1].split(\":\")\n",
    "                time = time_split[0]+date_split[2]\n",
    "\n",
    "\n",
    "                # filling out the dictionary showing the attacks in terms of dates\n",
    "\n",
    "\n",
    "                # filling out the dictionary showing the attacks at various hour blocks\n",
    "                if time not in time_dict:\n",
    "                    time_dict.setdefault(time, 1)\n",
    "\n",
    "                else:\n",
    "                    time_dict[time] += 1\n",
    "\n",
    "            except:\n",
    "                break      \n",
    "                    \n",
    "        \n",
    "            # populating the ip address dictionary\n",
    "            ip_address = events[event][date][\"Source Network Address\"]\n",
    "            \n",
    "            if ip_address not in ip_dict:\n",
    "                ip_dict.setdefault(ip_address, 1)\n",
    "                   \n",
    "                \n",
    "            else:\n",
    "                ip_dict[ip_address] += 1\n",
    "            \n",
    "            # populating the account name dictionary\n",
    "            uname = events[event][date][\"Account Name\"]\n",
    "            \n",
    "            if uname not in account_dict:\n",
    "                account_dict.setdefault(uname, 1)\n",
    "                \n",
    "            else:\n",
    "                account_dict[uname] += 1\n",
    "                \n",
    "            # populating the key length dictionary\n",
    "            key_len = events[event][date][\"Key Length\"]\n",
    "            \n",
    "            if key_len not in key_len_dict:\n",
    "                key_len_dict.setdefault(key_len, 1)\n",
    "                \n",
    "            else:\n",
    "                key_len_dict[key_len] += 1\n",
    "                \n",
    "            # populating the security_id dictionary\n",
    "            sec_id = events[event][date].get(\"Security ID\", \"NaN\")\n",
    "            \n",
    "            \n",
    "            if sec_id not in sec_id_dict:\n",
    "                sec_id_dict.setdefault(sec_id, 1)\n",
    "                \n",
    "            else:\n",
    "                sec_id_dict[sec_id] += 1\n",
    "            \n",
    "            # populating the workstation name dictionary\n",
    "            workstation_name = events[event][date][\"Workstation Name\"]\n",
    "            \n",
    "            if workstation_name not in workstation_dict:\n",
    "                workstation_dict.setdefault(workstation_name, 1)\n",
    "                \n",
    "            else:\n",
    "                workstation_dict[workstation_name] += 1\n",
    "            \n",
    "            \n",
    "            # creating a dictionary that has the information on the usernames tried by each IP address\n",
    "            \n",
    "            if ip_address not in ip_name_dict:\n",
    "                ip_name_dict.setdefault(ip_address, {}).setdefault(uname, 1)\n",
    "              \n",
    "            \n",
    "            elif uname not in ip_name_dict[ip_address]:\n",
    "                ip_name_dict.setdefault(ip_address, {}).setdefault(uname, 1)\n",
    "                \n",
    "            else:\n",
    "                ip_name_dict[ip_address][uname] += 1\n",
    "                \n",
    "            \n",
    "# sorting the unames and ips in descending order                \n",
    "unames_sorted = sorted(account_dict.items(), key=itemgetter(1), reverse=True)\n",
    "ips_sorted = sorted(ip_dict.items(), key=itemgetter(1), reverse=True)\n",
    "\n",
    "top_ten_unames = unames_sorted[0:10]       \n",
    "top_ten_ips = ips_sorted[0:10]\n",
    "\n",
    "end_time = t.time()\n",
    "\n",
    "run_time = end_time - start_time"
   ]
  },
  {
   "cell_type": "code",
   "execution_count": 2,
   "metadata": {},
   "outputs": [
    {
     "name": "stdout",
     "output_type": "stream",
     "text": [
      "The total runtime was 1.0 minutes and 30.95 seconds.\n",
      "There are 4450541 log entries\n"
     ]
    }
   ],
   "source": [
    "# checking the runtime and the number of log entries\n",
    "print(\"The total runtime was\", (run_time//60), \"minutes and\", round((run_time%60),2), \"seconds.\")\n",
    "\n",
    "total = 0\n",
    "for value in time_dict.values():\n",
    "    total += value\n",
    "    \n",
    "print(\"There are\", total, \"log entries\")"
   ]
  },
  {
   "cell_type": "markdown",
   "metadata": {},
   "source": [
    "Going from IP addresses to countries, I'm using IP 2 country.org as a way of easily retrieving the data I need."
   ]
  },
  {
   "cell_type": "code",
   "execution_count": 3,
   "metadata": {},
   "outputs": [
    {
     "name": "stdout",
     "output_type": "stream",
     "text": [
      "It took 45.454859495162964 seconds to run\n"
     ]
    }
   ],
   "source": [
    "# transforming from ip addresses to countries\n",
    "\n",
    "\n",
    "# initializing the start time\n",
    "start_time = t.time()\n",
    "\n",
    "# creating a pair of dictionaries to keep track of countries\n",
    "country_dict = {}\n",
    "country_attack_dict = {}\n",
    "\n",
    "# processing through the ip dictionary\n",
    "for ip in ip_dict:\n",
    "    \n",
    "    if ip != \"-\":\n",
    "            \n",
    "        ip_split = ip.split(\".\")\n",
    "        \n",
    "        # converting the ip to an ip decimal format\n",
    "        ip_decimal = (int(ip_split[0])*(256**3))+(int(ip_split[1])*(256**2))+(int(ip_split[2])*(256))+(int(ip_split[3]))\n",
    "        \n",
    "        # pulling the country information from ip 2 country.org\n",
    "        r = requests.get(\"https://ip2c.org/?dec=\"+str(ip_decimal))\n",
    "        response = r.text\n",
    "        response = response.split(\";\")\n",
    "        \n",
    "        # pulling the country out from the response ip2c gives\n",
    "        country = response[2]\n",
    "        \n",
    "        # creating a dictionary entry for this\n",
    "        country_attack_dict.setdefault(country, {})\n",
    "        \n",
    "        if \"Attacks Originating\" not in country_attack_dict[country]:\n",
    "        \n",
    "            country_attack_dict[country].setdefault(\"Attacks Originating\", ip_dict[ip])\n",
    "        \n",
    "            #country_attack_dict[country].setdefault(\"% Attacks Originating\", ip_dict[ip]/total)\n",
    "            \n",
    "        else:\n",
    "            country_attack_dict[country][\"Attacks Originating\"] += ip_dict[ip]\n",
    "            \n",
    "            #country_attack_dict[country][\"% Attacks Originating\"] += (ip_dict[ip]/total)\n",
    "\n",
    "        # incrementing the attack counter for the country in question\n",
    "        if country not in country_dict:\n",
    "            country_dict.setdefault(country, 1)\n",
    "        else:\n",
    "            country_dict[country] += 1\n",
    "            \n",
    "    else:\n",
    "        if \"-\" not in country_dict:\n",
    "            country_dict.setdefault(\"-\",1)\n",
    "        else:\n",
    "            country_dict[\"-\"] += 1\n",
    "\n",
    "end_time = t.time()\n",
    "\n",
    "run_time = end_time - start_time  \n",
    "\n",
    "print(\"It took\",run_time,\"seconds to run\")\n"
   ]
  },
  {
   "cell_type": "markdown",
   "metadata": {},
   "source": [
    "## Answers"
   ]
  },
  {
   "cell_type": "markdown",
   "metadata": {},
   "source": [
    "#1 Where are the attacks coming from?\n",
    "In terms of raw countries, they're coming from the Russian Federation, the Netherlands, Switzerland, the United States, Argentina, Sweden, Vietnam, China, the United Kingdom, France, the Republic of Korea (South Korea), Ukraine, Latvia, and Panama.\n",
    "\n",
    "Roughly speaking, around half of the IP address are in Russia amd it looks like 82% of the attacks originate from a Russian IP.\n"
   ]
  },
  {
   "cell_type": "code",
   "execution_count": 5,
   "metadata": {},
   "outputs": [
    {
     "data": {
      "image/png": "[encoded data removed]",
      "text/plain": [
       "<Figure size 432x288 with 2 Axes>"
      ]
     },
     "metadata": {
      "needs_background": "light"
     },
     "output_type": "display_data"
    }
   ],
   "source": [
    "#1 Where are the attacks coming from?\n",
    "\n",
    "# making the choropleth of the attacks\n",
    "# starting by reading in the map of the world we're using\n",
    "world = geopandas.read_file(geopandas.datasets.get_path('naturalearth_lowres'))\n",
    "\n",
    "world = world[(world.pop_est>0) & (world.name!=\"Antarctica\")]\n",
    "\n",
    "# making a df from the attack dictionary\n",
    "ctry_attcks_df = pd.DataFrame.from_dict(country_attack_dict, orient='index')\n",
    "\n",
    "# merging it to the world dataframe\n",
    "ctry_merged_world = pd.merge(world, ctry_attcks_df, left_on=\"iso_a3\", right_index=True)\n",
    "\n",
    "# dropping extraneous columns\n",
    "ctry_merged_world.drop([\"pop_est\",\"gdp_md_est\" ], axis=1, inplace=True)\n",
    "\n",
    "# creating new column\n",
    "ctry_merged_world[\"% Originating\"] = ctry_merged_world[\"Attacks Originating\"]/ctry_merged_world[\"Attacks Originating\"].sum()\n",
    "\n",
    "# merging with the world dataframe again\n",
    "merged_again = pd.merge(world, ctry_merged_world, how=\"outer\")\n",
    "\n",
    "# making the choropleth\n",
    "from mpl_toolkits.axes_grid1 import make_axes_locatable\n",
    "\n",
    "fig, ax = plt.subplots(1, 1)\n",
    "\n",
    "divider = make_axes_locatable(ax)\n",
    "\n",
    "\n",
    "cax = divider.append_axes(\"right\", size=\"5%\", pad=0.1)\n",
    "\n",
    "merged_again.plot(column='% Originating', ax=ax, legend=True, legend_kwds={\"label\":\" \"}, \n",
    "              missing_kwds={'color': 'lightgrey'}, cax=cax, cmap=\"Blues\")\n",
    "\n",
    "ax.set_xticklabels([])\n",
    "ax.set_yticklabels([])\n",
    "ax.tick_params(bottom=False, left=False)\n",
    "ax.set_title(\"% Attacks Originating\")\n",
    "# setting the color so there'll be real visibility on the choropleth\n",
    "ax.set_facecolor('xkcd:grey')\n",
    "\n",
    "\n",
    "fig.savefig(\"choropleth_transparent.svg\", transparent=True)\n",
    "\n",
    "# making the graph of where the attacks originate\n"
   ]
  },
  {
   "cell_type": "markdown",
   "metadata": {},
   "source": [
    "#2 How often does it happen?\n",
    "\n",
    "On average, there was an attack occurring around every 4 seconds when looking at the entire dataset. But, there are serious issues with the distribution of the data that preclude making any broad statements. Roughly 7/9ths of the attacks occurred over a three day period so that skews the data in ways that it is difficult to account for.\n",
    "\n",
    "Looking at the hourly breakdown over time, there is a clear drop in the number of attacks recorded between noon and 7pm.\n"
   ]
  },
  {
   "cell_type": "code",
   "execution_count": 35,
   "metadata": {},
   "outputs": [
    {
     "data": {
      "image/png": "[encoded data removed]",
      "text/plain": [
       "<Figure size 432x288 with 1 Axes>"
      ]
     },
     "metadata": {
      "image/png": {
       "height": 284,
       "width": 362
      },
      "needs_background": "light"
     },
     "output_type": "display_data"
    }
   ],
   "source": [
    "# graphing the hourly breakdown\n",
    "times_sorted = {}\n",
    "\n",
    "times_sorted.setdefault(\"12AM\", time_dict[\"12AM\"])\n",
    "\n",
    "for i in range(1,12):\n",
    "    time = str(i)+\"AM\"\n",
    "    times_sorted.setdefault(time, time_dict[time])\n",
    "\n",
    "times_sorted.setdefault(\"12PM\", time_dict[\"12PM\"])\n",
    "\n",
    "for i in range(1,12):\n",
    "    time = str(i)+\"PM\"\n",
    "    times_sorted.setdefault(time, time_dict[time])\n",
    "\n",
    "plt.box(False)\n",
    "\n",
    "plt.bar(range(len(times_sorted)), list(times_sorted.values()), color=\"#00224b\", align='center')\n",
    "plt.xticks(range(len(times_sorted)), list(times_sorted.keys()))\n",
    "plt.xticks(rotation=-75)\n",
    "plt.ylabel(\"Number of Attacks\")\n",
    "\n",
    "# disabling the y-axis for readability.\n",
    "plt.yticks([])\n",
    "\n",
    "plt.title(\"Hourly Comparison of Attacks\")\n",
    "\n",
    "plt.savefig(\"hourlycomparison.svg\", transparent=True)"
   ]
  },
  {
   "cell_type": "markdown",
   "metadata": {},
   "source": [
    "Looking at the daily breakdown, over the whole dataset, there is a clear focus on Monday and Tuesday as the days of the weeek when attacks occur."
   ]
  },
  {
   "cell_type": "code",
   "execution_count": 46,
   "metadata": {},
   "outputs": [
    {
     "data": {
      "image/png": "[encoded data removed]",
      "text/plain": [
       "<Figure size 432x288 with 1 Axes>"
      ]
     },
     "metadata": {
      "needs_background": "light"
     },
     "output_type": "display_data"
    }
   ],
   "source": [
    "# sorting the values for the day_dict\n",
    "days_sorted = {}\n",
    "\n",
    "for i in range(1,len(day_dict)+1):\n",
    "    day = i\n",
    "    days_sorted.setdefault(day, day_dict[day])\n",
    "    \n",
    "# graphing the distribution.     \n",
    "\n",
    "labels=[\"Monday\", \"Tuesday\", \"Wednesday\", \"Thursday\", \"Friday\", \"Saturday\", \"Sunday\"]\n",
    "data = days_sorted.values()\n",
    "\n",
    "plt.box(False)\n",
    "\n",
    "plt.bar(labels, data, color=\"#00224b\", align='center')\n",
    "plt.xticks(rotation=-25)\n",
    "plt.ylabel(\"Number of Attacks\")\n",
    "\n",
    "# disabling the y-axis for readability.\n",
    "plt.yticks([])\n",
    "plt.tick_params(bottom=False, left=False)\n",
    "\n",
    "plt.title(\"Daily Comparison of Attacks\")\n",
    "plt.tight_layout()\n",
    "\n",
    "\n",
    "plt.savefig(\"dailycomparison.svg\", transparent=True)"
   ]
  },
  {
   "cell_type": "markdown",
   "metadata": {},
   "source": [
    "Looking at the trend data over time, it's immediately clear that a lot of the attacks occured over just three days in December of 2019. Those three days are the 29th, the 30th, and the 31st with 295,285, 1,963,501,and 1,253,876 attacks occuring on those days respectively. That adds up to roughly 7/9ths of all of the attacks.\n"
   ]
  },
  {
   "cell_type": "code",
   "execution_count": 42,
   "metadata": {},
   "outputs": [
    {
     "data": {
      "image/png": "[encoded data removed]",
      "text/plain": [
       "<Figure size 864x864 with 1 Axes>"
      ]
     },
     "metadata": {
      "needs_background": "light"
     },
     "output_type": "display_data"
    }
   ],
   "source": [
    "# plotting the graph of the attacks over time \n",
    "fig, ax = plt.subplots(figsize=(12, 12))\n",
    "# sorting the items in the dictionary\n",
    "x,y = zip(*sorted(date_dict.items()))\n",
    "\n",
    "plt.plot(x,y,color=\"#00224b\")\n",
    "\n",
    "# sourced from below\n",
    "from matplotlib.dates import DateFormatter\n",
    "formatter = DateFormatter('%m-%Y')\n",
    "plt.gcf().axes[0].xaxis.set_major_formatter(formatter)\n",
    "# source= (https://stackoverflow.com/questions/12911987/how-to-change-date-format-using-matplolib-in-python)\n",
    "\n",
    "plt.box(False)\n",
    "plt.tick_params(bottom=False, left=False)\n",
    "plt.xticks(rotation=-50)\n",
    "\n",
    "plt.title(\"Daily Attacks Over Time\")\n",
    "plt.tight_layout()\n",
    "plt.savefig(\"attack_trend_dates.svg\", transparent=True)\n"
   ]
  },
  {
   "cell_type": "markdown",
   "metadata": {},
   "source": [
    "#3 How many names are tried?\n",
    "\n",
    "92,880 unique names were tried. It looks like the different attackers are using different dictionaries. There is overlap in what the names are that are being tried but that speaks more to the targets of the attackers I believe.\n"
   ]
  },
  {
   "cell_type": "code",
   "execution_count": 48,
   "metadata": {},
   "outputs": [
    {
     "name": "stdout",
     "output_type": "stream",
     "text": [
      "92880\n"
     ]
    }
   ],
   "source": [
    "#3 How many names are tried?\n",
    "print(len(account_dict))"
   ]
  },
  {
   "cell_type": "markdown",
   "metadata": {},
   "source": [
    "#4 What are the top ten names tried?\n",
    "Top Ten Names:\n",
    "\n",
    "1. \"ADMINISTRATOR\": 274205 attempts\n",
    "2. \"ADMIN\": 59295 attempts\n",
    "3. \"USER\": 16123 attempts\n",
    "4. \"SERVER\": 11301 attempts\n",
    "5. \"REMOTE\": 10875 attempts\n",
    "6. \"USER1\": 7138 attempts\n",
    "7. \"Administrator: 5354 attempts\n",
    "8. \"BACKUP\": 3970 attempts\n",
    "9. \"ADMINISTRADOR\": 3537 attempts\n",
    "10. \"SUPPORT\": 3326 attempts\n"
   ]
  },
  {
   "cell_type": "code",
   "execution_count": 49,
   "metadata": {},
   "outputs": [
    {
     "name": "stdout",
     "output_type": "stream",
     "text": [
      "The top ten usernames they tried...\n",
      "[('ADMINISTRATOR', 274205),\n",
      " ('ADMIN', 59295),\n",
      " ('USER', 16123),\n",
      " ('SERVER', 11301),\n",
      " ('REMOTE', 10875),\n",
      " ('USER1', 7138),\n",
      " ('Administrator', 5354),\n",
      " ('BACKUP', 3970),\n",
      " ('ADMINISTRADOR', 3537),\n",
      " ('SUPPORT', 3326)]\n"
     ]
    }
   ],
   "source": [
    "# 4 What are the top ten names tried?\n",
    "print(\"The top ten usernames they tried...\")\n",
    "pprint.pprint(top_ten_unames)"
   ]
  },
  {
   "cell_type": "markdown",
   "metadata": {},
   "source": [
    "It's quite clear that the target tends toward the administrative here. The top 10 attempted usernames make up around 9% of the total login attempts.\n",
    "\n"
   ]
  },
  {
   "cell_type": "code",
   "execution_count": 61,
   "metadata": {},
   "outputs": [
    {
     "name": "stdout",
     "output_type": "stream",
     "text": [
      "395124\n"
     ]
    },
    {
     "data": {
      "image/png": "[encoded data removed]",
      "text/plain": [
       "<Figure size 432x216 with 1 Axes>"
      ]
     },
     "metadata": {},
     "output_type": "display_data"
    }
   ],
   "source": [
    "# calculating the sum of attacks using the top ten unames\n",
    "top_ten_sum = 0\n",
    "for item in top_ten_unames:\n",
    "    top_ten_sum += item[1]\n",
    "print(top_ten_sum)\n",
    "\n",
    "not_top_ten = total - top_ten_sum\n",
    "\n",
    "numbers = [top_ten_sum, not_top_ten]\n",
    "names = [\"Top Ten Names\", \"Everything Else\"]\n",
    "\n",
    "# making a graph of the top ten usernames percentage of the total attacks\n",
    "# I still need to blow the lables up.\n",
    "fig, ax = plt.subplots(figsize=(6, 3), subplot_kw=dict(aspect=\"equal\"))\n",
    "wedges = ax.pie(numbers, labels=names, wedgeprops=dict(width=0.5), colors = [\"#00224b\",\"#6996AD\"])\n",
    "\n",
    "\n",
    "\n",
    "ax.set_title(\"% of attacks:Top Ten Usernames\")\n",
    "plt.savefig(\"top_ten_uname.svg\", transparent=True)"
   ]
  },
  {
   "cell_type": "markdown",
   "metadata": {},
   "source": [
    "#5 Are only null passwords attempted?\n",
    "\n",
    "Yes, only null passwords are attempted. I don't have any log entries where there isn't a null password passed."
   ]
  },
  {
   "cell_type": "code",
   "execution_count": 64,
   "metadata": {},
   "outputs": [
    {
     "name": "stdout",
     "output_type": "stream",
     "text": [
      "{'0': 4450541}\n"
     ]
    }
   ],
   "source": [
    "# 5 Are only Null passwords attempted?\n",
    "print(key_len_dict)"
   ]
  },
  {
   "cell_type": "markdown",
   "metadata": {},
   "source": [
    "#6 What sorts of workstations are launching these attacks?\n",
    "\n",
    "Unfortunately, in the vast majority of these attacks, the workstation type was not collected. It works out to only around a fifth of a percent of all attacks. In three cases which I'm taking to be mistakes, the machine carrying out the attack had the same name as my computer...so I'm inclined to say there's not much data to be pulled out of here.\n",
    "\n"
   ]
  },
  {
   "cell_type": "code",
   "execution_count": 66,
   "metadata": {},
   "outputs": [
    {
     "name": "stdout",
     "output_type": "stream",
     "text": [
      "{'Windows10': 859, 'Windows8': 896, 'FreeRDP': 879, 'Rdesktop': 892, 'Windows7': 891, 'mstsc': 844, 'Windows2012': 871, 'Remmina': 874, 'Windows2019': 914, 'Windows2016': 854, '-': 4441759, 'DESKTOP-VHEM0GV': 3, 'MSTSC': 4, 'MSI': 1}\n"
     ]
    }
   ],
   "source": [
    "#6 What sorts of workstations are involved\n",
    "print(workstation_dict)"
   ]
  },
  {
   "cell_type": "markdown",
   "metadata": {},
   "source": [
    "## Limitations:\n",
    "There were a number of limitations here that limit the degree to which I can say things with any certainty. Because a large number of the attacks occured on just three days, that means my dataset is heavily skewed and thus it's hard to make any claims about the days of the week when hours occur. Beyond that, I'm making asumptions that my system recorded all attacks that occured. Who is to say how accurate that is as an assumption."
   ]
  }
 ],
 "metadata": {
  "kernelspec": {
   "display_name": "Python 3",
   "language": "python",
   "name": "python3"
  },
  "language_info": {
   "codemirror_mode": {
    "name": "ipython",
    "version": 3
   },
   "file_extension": ".py",
   "mimetype": "text/x-python",
   "name": "python",
   "nbconvert_exporter": "python",
   "pygments_lexer": "ipython3",
   "version": "3.7.3"
  }
 },
 "nbformat": 4,
 "nbformat_minor": 4
}
